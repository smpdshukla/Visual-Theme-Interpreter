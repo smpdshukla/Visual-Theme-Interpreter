{
 "cells": [
  {
   "cell_type": "markdown",
   "metadata": {},
   "source": [
    "Visual Theme Interpreter & Config Generator\n"
   ]
  },
  {
   "cell_type": "code",
   "execution_count": 1,
   "metadata": {},
   "outputs": [
    {
     "name": "stdout",
     "output_type": "stream",
     "text": [
      "Requirement already satisfied: pillow in c:\\users\\lenovo\\appdata\\local\\programs\\python\\python312\\lib\\site-packages (11.2.1)\n",
      "Requirement already satisfied: colorthief in c:\\users\\lenovo\\appdata\\local\\programs\\python\\python312\\lib\\site-packages (0.2.1)\n",
      "Requirement already satisfied: matplotlib in c:\\users\\lenovo\\appdata\\local\\programs\\python\\python312\\lib\\site-packages (3.10.3)\n",
      "Requirement already satisfied: numpy in c:\\users\\lenovo\\appdata\\local\\programs\\python\\python312\\lib\\site-packages (1.26.4)\n",
      "Requirement already satisfied: contourpy>=1.0.1 in c:\\users\\lenovo\\appdata\\local\\programs\\python\\python312\\lib\\site-packages (from matplotlib) (1.3.2)\n",
      "Requirement already satisfied: cycler>=0.10 in c:\\users\\lenovo\\appdata\\local\\programs\\python\\python312\\lib\\site-packages (from matplotlib) (0.12.1)\n",
      "Requirement already satisfied: fonttools>=4.22.0 in c:\\users\\lenovo\\appdata\\local\\programs\\python\\python312\\lib\\site-packages (from matplotlib) (4.58.4)\n",
      "Requirement already satisfied: kiwisolver>=1.3.1 in c:\\users\\lenovo\\appdata\\local\\programs\\python\\python312\\lib\\site-packages (from matplotlib) (1.4.8)\n",
      "Requirement already satisfied: packaging>=20.0 in c:\\users\\lenovo\\appdata\\local\\programs\\python\\python312\\lib\\site-packages (from matplotlib) (23.2)\n",
      "Requirement already satisfied: pyparsing>=2.3.1 in c:\\users\\lenovo\\appdata\\local\\programs\\python\\python312\\lib\\site-packages (from matplotlib) (3.2.3)\n",
      "Requirement already satisfied: python-dateutil>=2.7 in c:\\users\\lenovo\\appdata\\local\\programs\\python\\python312\\lib\\site-packages (from matplotlib) (2.9.0.post0)\n",
      "Requirement already satisfied: six>=1.5 in c:\\users\\lenovo\\appdata\\local\\programs\\python\\python312\\lib\\site-packages (from python-dateutil>=2.7->matplotlib) (1.17.0)\n"
     ]
    },
    {
     "name": "stderr",
     "output_type": "stream",
     "text": [
      "\n",
      "[notice] A new release of pip is available: 24.3.1 -> 25.1.1\n",
      "[notice] To update, run: python.exe -m pip install --upgrade pip\n"
     ]
    }
   ],
   "source": [
    "!pip install pillow colorthief matplotlib numpy"
   ]
  },
  {
   "cell_type": "code",
   "execution_count": 2,
   "metadata": {},
   "outputs": [],
   "source": [
    "from PIL import Image\n",
    "from colorthief import ColorThief\n",
    "import json\n",
    "import matplotlib.pyplot as plt\n",
    "import numpy as np"
   ]
  },
  {
   "cell_type": "code",
   "execution_count": 8,
   "metadata": {},
   "outputs": [],
   "source": [
    "# Upload your image named 'uploaded_theme.jpg'\n",
    "image_path = 'image.jpg'\n",
    "img = Image.open(image_path)\n",
    "img.show()"
   ]
  },
  {
   "cell_type": "code",
   "execution_count": 4,
   "metadata": {},
   "outputs": [],
   "source": [
    "# Extract dominant colors\n",
    "color_thief = ColorThief(image_path)\n",
    "palette = color_thief.get_palette(color_count=5)\n",
    "primary_color = palette[0]\n",
    "background_color = palette[2]"
   ]
  },
  {
   "cell_type": "code",
   "execution_count": 5,
   "metadata": {},
   "outputs": [],
   "source": [
    "# Generate configuration\n",
    "prompt = 'Futuristic neon vibe for interactive UI'\n",
    "style = 'modern' if 'futuristic' in prompt.lower() else 'classic'\n",
    "mood = 'vibrant' if any(w in prompt.lower() for w in ['neon', 'bright', 'glow']) else 'subtle'\n",
    "font_family = 'Orbitron, sans-serif' if style == 'modern' else 'Roboto, serif'\n",
    "\n",
    "config = {\n",
    "    'theme': {\n",
    "        'description': prompt,\n",
    "        'style': style,\n",
    "        'mood': mood,\n",
    "        'typography': {\n",
    "            'font_family': font_family,\n",
    "            'font_size': '16px',\n",
    "            'weight': '600'\n",
    "        }\n",
    "    },\n",
    "    'colors': {\n",
    "        'primary': primary_color,\n",
    "        'background': background_color,\n",
    "        'palette': palette\n",
    "    },\n",
    "    'components': {\n",
    "        'button': {\n",
    "            'background_color': primary_color,\n",
    "            'text_color': '#FFFFFF',\n",
    "            'border_radius': '12px',\n",
    "            'hover_effect': 'glow'\n",
    "        },\n",
    "        'card': {\n",
    "            'background': background_color,\n",
    "            'border': f'1px solid rgba({primary_color[0]}, {primary_color[1]}, {primary_color[2]}, 0.4)',\n",
    "            'box_shadow': f'0px 0px 15px rgba({palette[1][0]}, {palette[1][1]}, {palette[1][2]}, 0.3)'\n",
    "        },\n",
    "        'input': {\n",
    "            'background': '#1C1C2B',\n",
    "            'text_color': '#F3F3F3',\n",
    "            'border': f'1px solid rgb{primary_color}',\n",
    "            'placeholder_color': '#888'\n",
    "        }\n",
    "    }\n",
    "}"
   ]
  },
  {
   "cell_type": "code",
   "execution_count": 6,
   "metadata": {},
   "outputs": [
    {
     "name": "stdout",
     "output_type": "stream",
     "text": [
      "theme_config.json saved.\n"
     ]
    }
   ],
   "source": [
    "# Save config JSON\n",
    "with open('theme_config.json', 'w') as f:\n",
    "    json.dump(config, f, indent=4)\n",
    "print('theme_config.json saved.')"
   ]
  }
 ],
 "metadata": {
  "kernelspec": {
   "display_name": "Python 3",
   "language": "python",
   "name": "python3"
  },
  "language_info": {
   "codemirror_mode": {
    "name": "ipython",
    "version": 3
   },
   "file_extension": ".py",
   "mimetype": "text/x-python",
   "name": "python",
   "nbconvert_exporter": "python",
   "pygments_lexer": "ipython3",
   "version": "3.12.9"
  }
 },
 "nbformat": 4,
 "nbformat_minor": 5
}
